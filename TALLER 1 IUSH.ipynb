{
 "cells": [
  {
   "cell_type": "markdown",
   "metadata": {},
   "source": [
    "# Taller 1 de Inteligencia Artificial"
   ]
  },
  {
   "cell_type": "markdown",
   "metadata": {},
   "source": [
    "."
   ]
  },
  {
   "cell_type": "markdown",
   "metadata": {},
   "source": [
    "### - Este taller es de caracter obligatorio. Aunque es un taller que puede ser desarrollado de manera libre(en equipo, consultas en internet), no se permite respuestas iguales y que no sean propias. \n",
    "\n",
    "### - Si se indicia autoria no propia, se dará como anulada la respuesta\n",
    "\n",
    "### - La respuesta aunque descriptiva y propia no implica que sea de interpretación, es correcta o no la respuesta.\n",
    "\n",
    "### Todas los puntos serán expuestos por el estudiante.\n",
    "\n",
    "\n",
    "\n",
    "\n",
    "\n",
    "## Fecha de entrega y sustentación: 25 de agosto 2017"
   ]
  },
  {
   "cell_type": "markdown",
   "metadata": {},
   "source": [
    "------------------------------------------------------------------------------------------------------------------"
   ]
  },
  {
   "cell_type": "markdown",
   "metadata": {},
   "source": [
    "---"
   ]
  },
  {
   "cell_type": "markdown",
   "metadata": {},
   "source": [
    "###  1. Cuales son las principales paradigmas de la Inteligencia Artificial?"
   ]
  },
  {
   "cell_type": "markdown",
   "metadata": {},
   "source": [
    "### 2. Cual es la diferencia entre Inteligencia Artificial e Inteligencia Computacional?"
   ]
  },
  {
   "cell_type": "markdown",
   "metadata": {},
   "source": [
    "### 3. Para que se parten los datos y en que categias ?"
   ]
  },
  {
   "cell_type": "markdown",
   "metadata": {},
   "source": [
    "### 4. Para que se utiliza la logica difusa?"
   ]
  },
  {
   "cell_type": "markdown",
   "metadata": {},
   "source": [
    "### 5. Para que sirve el algoritmo ridge regression? (consultar / propias palabras)"
   ]
  },
  {
   "cell_type": "markdown",
   "metadata": {},
   "source": [
    "### 6. Cual es la diferencia entre la estrategia evolutiva y un algoritmo genetico? (consultar/propias palabras)"
   ]
  },
  {
   "cell_type": "markdown",
   "metadata": {},
   "source": [
    "### 7. Si una base de datos tiene 8 dimensiones y se quiere estimar un valor, cuantos coeficientes entrega el modelo de regresion para crear la ecuación?"
   ]
  },
  {
   "cell_type": "markdown",
   "metadata": {},
   "source": [
    "### 8. Cual es el error de entrenamiento?"
   ]
  },
  {
   "cell_type": "markdown",
   "metadata": {},
   "source": [
    "### 9. Cual es la diferencia entre el error de global vs el error de entrenamiento y para que se usa cada uno?"
   ]
  },
  {
   "cell_type": "markdown",
   "metadata": {},
   "source": [
    "### 10. De 5 ejemplos de problemas que se puedan solucionar con una regresion lineal"
   ]
  },
  {
   "cell_type": "markdown",
   "metadata": {},
   "source": [
    "### 11. Con la siguiente base de datos estimar una regresion lineal que prediga las compras promedio de una tienda, dadas las visitas"
   ]
  },
  {
   "cell_type": "code",
   "execution_count": null,
   "metadata": {
    "scrolled": true
   },
   "outputs": [],
   "source": [
    "# importar libreria para graficar\n",
    "#importar libreria para procedimientos numericos y matematicos \n",
    "\n",
    "\n",
    "%matplotlib inline\n",
    "\n",
    "np.random.seed(2)\n",
    "visitas = np.random.normal(3.0, 1.0, 1000)\n",
    "\n",
    "promCompras = np.random.normal(50.0, 10.0, 1000) / visitas\n",
    "\n",
    "def organizar(x):\n",
    "    try:\n",
    "        c=x.shape[1]\n",
    "    except:\n",
    "        c=1\n",
    "    x=x.reshape(x.shape[0],c)\n",
    "    return x\n",
    "\n",
    "\n",
    "\n",
    "plt.scatter(visitas, promCompras)"
   ]
  },
  {
   "cell_type": "code",
   "execution_count": null,
   "metadata": {
    "collapsed": true
   },
   "outputs": [],
   "source": [
    "\n",
    "from sklearn.model_selection import train_test_split\n",
    "#PARTIR LOS DATOS CON LA FUNCION TRAIN_TEST_SPLIT CON UN 33% EN LOS DATOS DE TESTING\n",
    "y_train=organizar(y_train)\n",
    "X_train=organizar(X_train)\n",
    "X_test=organizar(X_test)\n",
    "y_test=organizar(y_test)\n",
    "\n"
   ]
  },
  {
   "cell_type": "code",
   "execution_count": null,
   "metadata": {},
   "outputs": [],
   "source": [
    "from sklearn.preprocessing import PolynomialFeatures\n",
    "#IMPORTAR LINEAR_MODEL\n",
    "\n",
    "poly = PolynomialFeatures(degree=2) # POLINOMIO DE GRADO 2\n",
    "X_train_pol = poly.fit_transform(X_train)\n",
    "X_test_pol = poly.fit_transform(X_test)\n",
    "model=linear_model.LinearRegression()\n",
    "model.fit(X_train_pol,y_train)"
   ]
  },
  {
   "cell_type": "code",
   "execution_count": null,
   "metadata": {},
   "outputs": [],
   "source": [
    "#CUALES SON LOS COEFICIENTES?"
   ]
  },
  {
   "cell_type": "code",
   "execution_count": null,
   "metadata": {},
   "outputs": [],
   "source": [
    "#CUAL ES EL INTERCEPTO?"
   ]
  },
  {
   "cell_type": "code",
   "execution_count": null,
   "metadata": {
    "scrolled": false
   },
   "outputs": [],
   "source": [
    "\n",
    "xx = np.linspace(0, 7, 100)\n",
    "xx_quadratic = poly.transform(xx.reshape(xx.\n",
    "shape[0], 1))\n",
    "plt.plot(xx, model.predict(xx_quadratic), c='r',linestyle='--')\n",
    "plt.scatter(X, y)\n"
   ]
  },
  {
   "cell_type": "code",
   "execution_count": null,
   "metadata": {
    "collapsed": true
   },
   "outputs": [],
   "source": [
    "#cual es la exactitud del modelo"
   ]
  },
  {
   "cell_type": "markdown",
   "metadata": {},
   "source": [
    "## SEGUN LO ANTERIOR CREAR UN CICLO 'FOR' QUE ME MUESTRE EL MEJOR SCORE VARIANDO EL ORDEN DEL POLINOMIO DE LA REGRESION"
   ]
  },
  {
   "cell_type": "code",
   "execution_count": null,
   "metadata": {
    "collapsed": true
   },
   "outputs": [],
   "source": [
    "#SU CODIGO DE CICLO FOR AQUI!!"
   ]
  }
 ],
 "metadata": {
  "kernelspec": {
   "display_name": "Python 3",
   "language": "python",
   "name": "python3"
  },
  "language_info": {
   "codemirror_mode": {
    "name": "ipython",
    "version": 3
   },
   "file_extension": ".py",
   "mimetype": "text/x-python",
   "name": "python",
   "nbconvert_exporter": "python",
   "pygments_lexer": "ipython3",
   "version": "3.5.2"
  }
 },
 "nbformat": 4,
 "nbformat_minor": 2
}
